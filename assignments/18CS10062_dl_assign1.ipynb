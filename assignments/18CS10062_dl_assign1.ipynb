{
  "nbformat": 4,
  "nbformat_minor": 0,
  "metadata": {
    "anaconda-cloud": {},
    "colab": {
      "name": "18CS10062_dl_assign1.ipynb",
      "provenance": [],
      "collapsed_sections": []
    },
    "kernelspec": {
      "display_name": "Python 3",
      "language": "python",
      "name": "python3"
    },
    "language_info": {
      "codemirror_mode": {
        "name": "ipython",
        "version": 3
      },
      "file_extension": ".py",
      "mimetype": "text/x-python",
      "name": "python",
      "nbconvert_exporter": "python",
      "pygments_lexer": "ipython3",
      "version": "3.8.5"
    }
  },
  "cells": [
    {
      "cell_type": "markdown",
      "metadata": {
        "id": "nvnm3YqXF1et"
      },
      "source": [
        "\n",
        "# Problem Set 1 \n"
      ]
    },
    {
      "cell_type": "markdown",
      "metadata": {
        "id": "pK-9wPs4F1e1"
      },
      "source": [
        "**Name : `Radhika Patwari`** "
      ]
    },
    {
      "cell_type": "markdown",
      "metadata": {
        "id": "VWcIfKAnF1e3"
      },
      "source": [
        "**Roll-No : `18CS10062`** \n",
        "\n"
      ]
    },
    {
      "cell_type": "markdown",
      "metadata": {
        "id": "P8ITxsdeF1e4"
      },
      "source": [
        "**Dept : `Computer Science and Engineering`** "
      ]
    },
    {
      "cell_type": "markdown",
      "metadata": {
        "id": "C-IFdWvrF1e5"
      },
      "source": [
        "**Mail-ID : `rsrkpatwari1234@gmail.com & rsrkiwill@iitkgp.ac.in`** "
      ]
    },
    {
      "cell_type": "markdown",
      "metadata": {
        "id": "idj_n4-4F1e5"
      },
      "source": [
        "## Preamble\n",
        "\n",
        "To run and solve this assignment, one must have a working IPython Notebook installation. The easiest way to set it up for both Windows and Linux is to install [Anaconda](https://docs.anaconda.com/anaconda/install/). Then save this file to your computer, run Anaconda and choose this file in Anaconda's file explorer. Use `Python 3` version. Below statements assume that you have already followed these instructions. If you are new to Python or its scientific library, Numpy, there are some nice tutorials [here](https://www.learnpython.org/) and [here](http://www.scipy-lectures.org/).\n",
        "\n",
        "To run code in a cell or to render [Markdown](https://en.wikipedia.org/wiki/Markdown)+[LaTeX](https://en.wikipedia.org/wiki/LaTeX) press `Ctr+Enter` or `[>|]`(like \"play\") button above. To edit any code or text cell [double]click on its content. To change cell type, choose \"Markdown\" or \"Code\" in the drop-down menu above.\n",
        "\n",
        "We highly encourage students to put down their answers to theoretical questions into corresponding cells below. However, if one does not know LaTeX (and would find it too hard to learn it), he/she can write it in pen-and-paper format and submit the scanned pdf. Note that the solutions to the programming problems should be submitted in the ipynb file itself.\n",
        "\n",
        "Put your solution into boxes marked with **`[double click here to add a solution]`** and press Ctr+Enter to render text. [Double]click on a cell to edit or to see its source code. You can add cells via **`+`** sign at the top left corner.\n",
        "\n",
        "Submission instructions: Please upload your completed solution file to [CSE Moodle](https://kgpmoodle.iitkgp.ac.in/moodle/login/index.php) by the due date.\n",
        "\n",
        "\n",
        "`Vector` stands for `column vector` below."
      ]
    },
    {
      "cell_type": "markdown",
      "metadata": {
        "id": "tVfDG7dfF1e6"
      },
      "source": [
        "### Problem 1: Closed-Form Maximum Likelihood\n",
        "\n",
        "**Q1.1**: The **functional Invariance** Property of Maximum Likelihood Estimate (MLE) states that, \"If $\\hat{\\theta}$ is a Maximum Likelihood Estimate (MLE) of $\\theta$ and if $g$ is a function, then $g(\\hat{\\theta})$ is an MLE of $g(\\theta)$\".\n",
        "\n",
        "Assume that we are given $n$ iid samples $(x_1, ..., x_n)$ from $P(x \\ | \\ \\theta)$ below:\n",
        "\n",
        "$P(x \\ | \\ \\theta) = \\theta^x (1 - \\theta)^{1 - x}$ for $x \\in \\{0, 1\\}$\n",
        "\n",
        "The MLE for the parameter $\\theta$ of given distribution is $\\frac{\\sum_{i=1}^n x_i}{n}$ (already worked out in class). Now, let us consider $v = g(\\theta) = (1 - \\theta)$. Compute the MLE for the parameter $v$ of the distribution **without directly using the functional invariance property stated above**:\n",
        "\n",
        "$P(x \\ | \\ v) = \\theta^x (1 - \\theta)^{1 - x}$ for $x \\in \\{0, 1\\}$\n",
        "\n",
        "**Q1.2**: Assume that we are given $2n$ iid samples $(x_1, ..., x_{2n})$ from $P(x \\ | \\ \\theta)$ below. Compute the MLE for the parameter $\\theta$ of given distribution.\n",
        "\n",
        "$P(x \\ | \\ \\theta) = \\frac{1}{2} e^{-|x-\\theta|}$\n",
        "\n",
        "_Hint: You may find [sign](https://en.wikipedia.org/wiki/Sign_function) function useful._"
      ]
    },
    {
      "cell_type": "markdown",
      "metadata": {
        "id": "CJrAwp1CF1e8"
      },
      "source": [
        "**`Solution Q1.1`**\n",
        "\n",
        "Given , ${v} = g(\\theta) = (1 - \\theta)$ and $P(x \\ | \\ v) = \\theta^x (1-\\theta)^{1-x}$  for $x \\in \\{0, 1\\}$\n",
        "\n",
        "Assuming ${n}$ iid samples $(x_1,x_2......x_n)$ , $P(x_i \\ | \\ v) =(1 - v)^{x_i} (v)^{1-x_i}$ for ith sample\n",
        "\n",
        "Then , $P(x \\ | \\ v) = (1-v)^{\\sum^n_{i=1} x_i}(v)^{n - \\sum^n_{i=1} x_i}$\n",
        "\n",
        "Log likelihood $L(v) = \\log P(x \\ | \\ v) = \\sum^n_{i=1} x_i \\log(1-v) \\ + \\ (n - \\sum^n_{i=1} x_i) \\log(v)$\n",
        " \n",
        "Taking derivative on both sides of above equation, we get \n",
        "$$ \\ \\frac{d(L(v))}{dv} = \\frac{-\\sum^n_{i=1} x_i}{1-v} \\ + \\ \\frac{(n - \\sum^n_{i=1} x_i)}{v}$$\n",
        "\n",
        "For finding MLE of ${v}$, likelihood should be maximised , thus $$ \\ \\frac{d(L(v))}{dv} = 0$$\n",
        "\n",
        "Therefore , $\\frac{-\\sum^n_{i=1} x_i}{1-v} \\ + \\ \\frac{(n - \\sum^n_{i=1} x_i)}{v} = 0$\n",
        "\n",
        "\n",
        " => $ \\ \\ \\frac{\\sum^n_{i=1} x_i}{1-v} = \\frac{(n - \\sum^n_{i=1} x_i)}{v}$\n",
        "\n",
        " => $ \\ \\ v \\ {\\sum^n_{i=1} x_i} = (1-v)(n - \\sum^n_{i=1} x_i)$\n",
        "\n",
        " => $ \\ \\ v \\ {\\sum^n_{i=1} x_i} = n - \\sum^n_{i=1}x_i - vn + v\\sum^n_{i=1} x_i$\n",
        "\n",
        " => $ \\ \\ vn = n - \\sum^n_{i=1}x_i$\n",
        "\n",
        " => $ \\ \\ v = 1 - \\frac{\\sum^n_{i=1}x_i}{n}$\n",
        "\n",
        " For MLE , $ \\ \\ v = 1 - \\frac{\\sum^n_{i=1}x_i}{n}$ \n",
        "\n",
        " Hence obtained.\n"
      ]
    },
    {
      "cell_type": "markdown",
      "metadata": {
        "id": "u33bbyuanV6H"
      },
      "source": [
        "**`Solution Q1.2`**\n",
        "\n",
        "Given, $P(x_i|\\theta) = \\frac{1}{2} e^{-|x_i-\\theta|}$\n",
        "\n",
        "Hence for ${2n}$ iid samples $(x_1,x_2.......x_{2n})$ , we have $P(x|\\theta) = \\frac{1}{2} e^{-\\sum_{i=1}^{2n}|x_i-\\theta|}$\n",
        "\n",
        "To obtain Maximum llikelihood estimation of ${\\theta}$ , $P(x|\\theta)$ should be maximum ,  which implies $\\sum_{i=1}^{2n}|x_i-\\theta|$ should be minimum\n",
        "\n",
        "Therefore $\\theta$ = median of $(x_1,x_2,........,x_{2n})$ for MLE\n"
      ]
    },
    {
      "cell_type": "markdown",
      "metadata": {
        "id": "yUEJONgLaea2"
      },
      "source": [
        "### Problem 2: Gradient for Maximum Likelihood Estimation\n",
        "\n",
        "Sometimes, we can't find MLEs in closed-form, in this case, we can use an iterative scheme to solve resulting optimization problem $\\theta_{MLE} = \\arg\\max P(x \\ | \\ \\theta)$. First-order iterative schemes (e.g. Gradient Descent, Stochastic Gradient Descent, Nesterov Accelerated Gradient Descent) require gradient information at each visited point. Compute gradients for log-likelihood of the following model:\n",
        "\n",
        "- we have $X \\in \\mathbf R^{n \\times d}$ - constant data matrix, $\\mathbf x_i$ - vector corresponding to a single data point $(\\mathbf x_i \\in \\mathbf R^{d})$\n",
        "- $\\theta$ is a $d$-dimensional (unknown) weight vector\n",
        "- $\\varepsilon \\sim \\text{Fisher's Z-distribution}(d_1, d_2)$ is a $n$-dimensional (unknown) noise vector\n",
        "- and we observe vector $\\mathbf y = X\\theta + \\varepsilon$\n",
        "\n",
        "Which means that\n",
        "$$ P(y_i \\ | \\ \\mathbf x_i, \\theta, d_1, d_2) = Z(d_1, d_2) \\frac{e^{d_1(y_i - \\theta^T \\mathbf{x_i})}}{(d_1e^{2(y_i - \\theta^T \\mathbf{x_i})} + d_2)^\\frac{d_1+d_2}{2}} $$\n",
        "\n",
        "where $Z$ stands for a constant that does not depend on $\\theta$, and $d_1$ and $d_2$ are constant parameters.\n",
        "\n",
        "Denote log-likelihood as $\\mathcal L(\\theta)$ and log-likelihood for a single sample $i$ as $\\mathcal L_i(\\theta) = \\mathcal L(\\theta \\ | \\ \\mathbf x_i, y_i)$.\n",
        "\n",
        "**Q2.1**: Find $\\frac{\\partial \\mathcal L_i(\\theta)}{\\partial \\theta}$."
      ]
    },
    {
      "cell_type": "markdown",
      "metadata": {
        "id": "OYDG9kkEF1e8"
      },
      "source": [
        "**`Solution Q2.1`**\n",
        "\n",
        "Log Likelihood for a single sample ${i}$ is $L_i(\\theta) = L(\\theta |\\mathbf x_i,y_i) = log(P(y_i|\\mathbf x_i,\\theta,d_1,d_2)$\n",
        "\n",
        "Hence , $L(\\theta | x_i,y_i) = log(Z(d_1,d_2)) + d_1 (y_i-\\theta^T \\mathbf x_i) - (\\frac {d_1+d_2} {2} log(d_1e^{2(y_i - \\theta^T \\mathbf{x_i})} + d_2))$\n",
        "\n",
        "Taking differential on both the sides of the above equation wrt ${\\theta}$, we obtain\n",
        "\n",
        "$$ \\frac{\\partial \\mathcal L(\\theta | x_i,y_i)}{\\partial \\theta} = -d_1 \\mathbf x_i + (\\frac {d_1+d_2}{2})\\Big(\\frac {1} {d_1e^{2(y_i - \\theta^T \\mathbf{x_i})} + d_2}\\Big) 2d_1e^{2(y_i - \\theta^T \\mathbf{x_i})} \\mathbf x_i$$\n",
        "\n",
        "Therefore , $$ \\frac{\\partial \\mathcal L_i(\\theta)}{\\partial \\theta} = -d_1 \\mathbf x_i + (d_1+d_2)\\Big(\\frac {d_1e^{2(y_i - \\theta^T \\mathbf{x_i})}} {d_1e^{2(y_i - \\theta^T \\mathbf{x_i})} + d_2}\\Big)\\mathbf  x_i $$"
      ]
    },
    {
      "cell_type": "markdown",
      "metadata": {
        "id": "2fkb1S07F1e-"
      },
      "source": [
        "**Q2.2**: Check the result obtained in the previous section by coding an SGD for $\\mathcal L(\\theta)$ and plotting how function value changes as a function of a number of passed gradient steps. Try multiple learning rates (7e-2, 1e-3, 1e-6), explain the result. Consider $Z(d_1,d_2)=8$, $d_1=2$ and $d_2=2$ for plotting.\n",
        "\n",
        "We marked places where you are expected to add/change your own code with **`## -- ! code required`** comment."
      ]
    },
    {
      "cell_type": "code",
      "metadata": {
        "colab": {
          "base_uri": "https://localhost:8080/",
          "height": 765
        },
        "id": "cEYYZ095F1e_",
        "jupyter": {
          "outputs_hidden": false
        },
        "outputId": "ae71f52c-4e55-4085-8c60-893f31901d20"
      },
      "source": [
        "import numpy as np\n",
        "import matplotlib.pyplot as plt\n",
        "\n",
        "def generate_data(n=100, d=10, d1=2, d2=2):\n",
        "    X = np.random.rand(n, d)*2-1\n",
        "    theta = np.random.rand(d, 1)\n",
        "    noise = np.random.f(d1, d2, n).reshape((-1, 1))  # F-distribution\n",
        "    noise = np.log(noise) / 2  # Fisher's Z-distribution\n",
        "    return X, X @ theta + noise\n",
        "\n",
        "def loss(X, y, theta):\n",
        "    ## ! -- code required\n",
        "    param = 2*(y - np.matmul(X, theta))\n",
        "    loss_value = np.log(8) + param - 2*np.log(2*np.exp(param) + 2)\n",
        "    return -np.mean(loss_value)  # negative log likelihood\n",
        "\n",
        "def loss_grad_i(X, y, theta, i):\n",
        "    ## ! -- code required\n",
        "    param1 = 2*(y[i] - np.matmul(X[i], theta))\n",
        "    param2 = np.exp(param1)/(np.exp(param1)+1)\n",
        "    loss_value = -2*X[i] + 4*param2*X[i]\n",
        "    return -loss_value    # derivative of negative log likelihood\n",
        "\n",
        "def sgd_plot(theta_init, X, y, n_steps=100):\n",
        "    for learning_rate in [7e-2, 1e-3, 1e-6]:\n",
        "        theta = theta_init.copy()\n",
        "        losses = []\n",
        "        for step_n in range(n_steps):\n",
        "            value = 0\n",
        "            for i in range(X.shape[0]):\n",
        "                update = loss_grad_i(X, y, theta, i)\n",
        "                theta_change = learning_rate*update  # minimising negative log likelihood\n",
        "                theta = theta - np.array([theta_change]).T ## ! -- code required\n",
        "                loss_i = loss(X, y, theta) ## ! -- code required\n",
        "                losses.append(loss_i)\n",
        "        plt.plot(losses)\n",
        "        plt.show()\n",
        "    \n",
        "def main(n=100, d=10, d1=2, d2=1):\n",
        "    X, y = generate_data(n, d, d1, d2)\n",
        "    theta_init = np.random.rand(d, 1)\n",
        "    sgd_plot(theta_init, X, y)\n",
        "    \n",
        "main()"
      ],
      "execution_count": null,
      "outputs": [
        {
          "output_type": "display_data",
          "data": {
            "image/png": "[encoded data removed]",
            "text/plain": [
              "<Figure size 432x288 with 1 Axes>"
            ]
          },
          "metadata": {
            "tags": [],
            "needs_background": "light"
          }
        },
        {
          "output_type": "display_data",
          "data": {
            "image/png": "[encoded data removed]",
            "text/plain": [
              "<Figure size 432x288 with 1 Axes>"
            ]
          },
          "metadata": {
            "tags": [],
            "needs_background": "light"
          }
        },
        {
          "output_type": "display_data",
          "data": {
            "image/png": "[encoded data removed]",
            "text/plain": [
              "<Figure size 432x288 with 1 Axes>"
            ]
          },
          "metadata": {
            "tags": [],
            "needs_background": "light"
          }
        }
      ]
    },
    {
      "cell_type": "markdown",
      "metadata": {
        "id": "_8MR2VeaF1fC"
      },
      "source": [
        "**`Solution Q2.2`**\n",
        "\n",
        "From Q2.1 , we have\n",
        "Log Likelihood for a single sample ${i}$ as $L_i(\\theta) = L(\\theta |\\mathbf x_i,y_i) = log(P(y_i|\\mathbf x_i,\\theta,d_1,d_2)$\n",
        "and\n",
        "\n",
        "derivative of loss function as \n",
        "$$ \\frac{\\partial \\mathcal L_i(\\theta)}{\\partial \\theta} = -d_1 \\mathbf x_i + (d_1+d_2)\\Big(\\frac {d_1e^{2(y_i - \\theta^T \\mathbf{x_i})}} {d_1e^{2(y_i - \\theta^T \\mathbf{x_i})} + d_2}\\Big)\\mathbf  x_i $$\n",
        "\n",
        "On noting down the influence of the learning rate in 100 iteration steps, we obtain the above 3 graphs.\n",
        "\n",
        "1st graph : Learning rate of 7e-2 is too high for the training set. Weight parameter changes very rapidly and overshoots the minima of the loss function. The value of loss keeps oscillating around the minima, as a result the value oscillates within a range of values for any number of iterations and minima is never reached.\n",
        "\n",
        "2nd graph : Learning rate of 1e-3 is optimal. A smooth curve is obtained indicating decrease in loss with increasing number of iterating steps.Hence SGD reaches minima after certain number of iterations and optimal value of parameters are obtained.\n",
        "\n",
        "3dr graph : Learning rate of 1e-3 is too less. The change in the value of theta is almost negligible. Hence we obtain a linear function of loss with respect to number of iterations.Thus the function converges very slowly with this value of learning rate.\n",
        "\n",
        "\n",
        "\n"
      ]
    },
    {
      "cell_type": "markdown",
      "metadata": {
        "id": "Rd3P13flF1fD"
      },
      "source": [
        "### Problem 3: Logistic Regression\n",
        "\n",
        "Assume that we observe data generated via the following model:\n",
        "\n",
        "- $X \\in \\mathbf R^{n \\times d}$ - constant data matrix\n",
        "- $\\theta_j \\sim \\mathcal N(0, \\sigma_\\theta)$; $\\theta$ is $d$-dimensional random vector (`This is a prior information that` $\\theta$ `follows normal distribution`)\n",
        "- $\\varepsilon_i \\sim \\text{Logistic}(0, \\sigma_\\epsilon)$; $\\varepsilon$ is $n$-dimensional random noise vector distributed according to [Logistic](https://en.wikipedia.org/wiki/Logistic_distribution) distribution\n",
        "- and we observe $\\mathbf y = \\mathbf 1[X \\theta + \\varepsilon \\geq 0]$ - boolean random vector\n",
        "\n",
        "or, in other words: there exists some data $X$, we sample weights vector $\\theta$ of the corresponding shape from multivariate normal distribution, multiply features from $X$ by weights from $\\theta$, add random logistically distributed noise to resulting numbers, and observe whether resulting (noisy) random variable exceeds zero. So we are given the data matrix X and y, we want to estimate the weight vector $\\theta$ as accurately as possible. \n",
        "\n",
        "**`Show that given model definition above, the following holds:`**\n",
        "\n",
        "**Q3.1**: $ P(y_i = 1 \\ | \\ \\theta, \\mathbf x_i) = \\text{logistic}\\Big(\\frac{\\theta^T \\mathbf x_i}{\\sigma_\\epsilon}\\Big)$\n",
        "\n",
        " where $ \\text{logistic}(x) := \\frac{1}{1+\\exp(-x)}$ is a standard [logistic function](https://en.wikipedia.org/wiki/Logistic_function#Mathematical_properties), $\\mathbf x_i$ denotes $i$-th data sample vector, $\\mathbf 1[\\dots]$ denotes indicator function. Do not get confused between standard [logistic function](https://en.wikipedia.org/wiki/Logistic_function#Mathematical_properties) and [Logistic](https://en.wikipedia.org/wiki/Logistic_distribution) distribution.\n",
        " \n",
        " **Hints:** \n",
        " \n",
        " - for a random variable $\\zeta \\sim P$ what is $P(\\zeta \\leq a)$ ? (answer: $F_{\\zeta}(a)$ - value of cumulative density function for the distribution of $\\zeta$)"
      ]
    },
    {
      "cell_type": "markdown",
      "metadata": {
        "id": "ORzZUli-F1fD"
      },
      "source": [
        "**`Solution Q3.1`**\n",
        "\n",
        "Given $\\varepsilon_i \\sim \\text{Logistic}(0, \\sigma_\\epsilon)$ , $ \\text{logistic}(x) := \\frac{1}{1+\\exp(-x)}$ and $\\mathbf y = \\mathbf 1[X \\theta + \\varepsilon \\geq 0]$\n",
        "\n",
        "For a random variable $\\epsilon \\sim \\text{Logistic}(0, \\sigma_\\epsilon)$ , $P(\\epsilon \\leq \\theta^T \\mathbf x_i)$ = $CDF_{\\epsilon}(\\theta^T \\mathbf x_i)$ = $\\text{logistic}\\Big(\\frac{\\theta^T \\mathbf x_i}{\\sigma_\\epsilon}\\Big)$\n",
        "\n",
        "Considering, $ P(y_i = 1 \\ | \\ \\theta, \\mathbf x_i)$\n",
        "\n",
        "= $ P(\\theta^T \\mathbf x_i + \\varepsilon \\geq 0)$\n",
        "\n",
        "= $ P(\\varepsilon \\geq -\\theta^T \\mathbf x_i)$\n",
        "\n",
        "= $ P(\\varepsilon \\leq \\theta^T \\mathbf x_i)$  [since logistic distribution is symmetric]\n",
        "\n",
        "= $CDF_{\\epsilon}(\\theta^T \\mathbf x_i)$\n",
        "\n",
        "= $\\text{logistic}\\Big(\\frac{\\theta^T \\mathbf x_i}{\\sigma_\\epsilon}\\Big)$\n",
        "\n",
        "Therefore , $ P(y_i = 1 \\ | \\ \\theta, \\mathbf x_i)$ = $\\text{logistic}\\Big(\\frac{\\theta^T \\mathbf x_i}{\\sigma_\\epsilon}\\Big)$.Hence Proved"
      ]
    },
    {
      "cell_type": "markdown",
      "metadata": {
        "id": "boFssCLNF1fD"
      },
      "source": [
        "Let us consider $\\sigma_{\\epsilon} = 1$ everywhere further.\n",
        "\n",
        "**Q3.2**: $ P(y_i \\ | \\ \\theta, \\mathbf x_i) = (\\text{logistic}(\\theta^T \\mathbf x_i))^{y_i} (1-\\text{logistic}(\\theta^T \\mathbf x_i))^{(1-y_i)}$"
      ]
    },
    {
      "cell_type": "markdown",
      "metadata": {
        "id": "w33uDsx8F1fD"
      },
      "source": [
        "**`Solution Q3.2`**\n",
        "\n",
        "From Q3.1 , we have $ P(y_i = 1 \\ | \\ \\theta, \\mathbf x_i)$ = $\\text{logistic}\\Big(\\frac{\\theta^T \\mathbf x_i}{\\sigma_\\epsilon}\\Big)$ = $\\text{logistic}(\\theta^T \\mathbf x_i)$\n",
        "\n",
        "For a boolean random vector y , y = {0,1}\n",
        "\n",
        "Thus, $ P(y_i = 0 \\ | \\ \\theta, \\mathbf x_i)$ = 1 - $\\text{logistic}(\\theta^T \\mathbf x_i)$\n",
        "\n",
        "Therefore $ P(y_i | \\ \\theta, \\mathbf x_i) = (\\text{logistic}(\\theta^T \\mathbf x_i))^{y_i} (1-\\text{logistic}(\\theta^T \\mathbf x_i))^{(1-y_i)}$ satisfies the two equations.\n",
        "\n",
        "Hence proved."
      ]
    },
    {
      "cell_type": "markdown",
      "metadata": {
        "id": "Ul5410VkF1fD"
      },
      "source": [
        "**Q3.3**: $ \\log P(y_i \\ | \\ \\theta, \\mathbf x_i) = y_i \\theta^T \\mathbf x_i - \\log(1 + \\exp(\\theta^T \\mathbf x_i))$"
      ]
    },
    {
      "cell_type": "markdown",
      "metadata": {
        "id": "yCWko5RfF1fD"
      },
      "source": [
        "**`Solution Q3.3`**\n",
        "\n",
        "From Q3.2 , we have $ P(y_i | \\ \\theta, \\mathbf x_i) = (\\text{logistic}(\\theta^T \\mathbf x_i))^{y_i} (1-\\text{logistic}(\\theta^T \\mathbf x_i))^{(1-y_i)}$.\n",
        "\n",
        "Taking logarithm on both the sides of the above equation, we get\n",
        "\n",
        "$ \\log P(y_i | \\ \\theta, \\mathbf x_i) = y_i \\log (\\text{logistic}(\\theta^T \\mathbf x_i)) + (1-y_i) \\log (1-\\text{logistic}(\\theta^T \\mathbf x_i))$\n",
        "\n",
        "= $y_i \\log \\Big(\\frac{\\exp(\\theta^T \\mathbf x_i)}{1 + \\exp(\\theta^T \\mathbf x_i)}\\Big) + (1-y_i) \\log \\Big(\\frac{1}{1 + \\exp(\\theta^T \\mathbf x_i)}\\Big)$\n",
        "\n",
        "= $y_i \\log (\\exp(\\theta^T \\mathbf x_i)) - y_i \\log (1 + \\exp(\\theta^T \\mathbf x_i)) + 0 - (1-y_i) \\log (1 + \\exp(\\theta^T \\mathbf x_i))$\n",
        "\n",
        "= $y_i \\theta^T \\mathbf x_i - y_i \\log (1 + \\exp(\\theta^T \\mathbf x_i)) - \\log (1 + \\exp(\\theta^T \\mathbf x_i)) + y_i \\log (1 + \\exp(\\theta^T \\mathbf x_i))$\n",
        "\n",
        "= $y_i \\theta^T \\mathbf x_i - \\log (1 + \\exp(\\theta^T \\mathbf x_i))$\n",
        "\n",
        "Therefore $ \\log P(y_i | \\ \\theta, \\mathbf x_i) = y_i \\theta^T \\mathbf x_i - \\log (1 + \\exp(\\theta^T \\mathbf x_i))$. Hence proved"
      ]
    },
    {
      "cell_type": "markdown",
      "metadata": {
        "id": "8HpmL4NmF1fE"
      },
      "source": [
        "The vector $\\mathbf 1_{n \\times 1}$ denotes column of ones.\n",
        "\n",
        "**Q3.4**: $ \\mathcal L_{MLE}(\\theta) = \\log P(\\mathbf y \\ | \\ X, \\theta) = y^T X \\theta - \\mathbf 1_{n \\times 1}^T \\cdot \\log(\\mathbf 1_{n \\times 1} + \\exp(X \\theta)) $"
      ]
    },
    {
      "cell_type": "markdown",
      "metadata": {
        "id": "3FEQ5VHiF1fF"
      },
      "source": [
        "**`Solution Q3.4`**\n",
        "\n",
        "From Q3.3 , we have $ \\log P(y_i | \\ \\theta, \\mathbf x_i) = y_i \\theta^T \\mathbf x_i - \\log (1 + \\exp(\\theta^T \\mathbf x_i))$\n",
        "\n",
        "Now, \n",
        "$ \\mathcal L_{MLE}(\\theta) = \\log P(\\mathbf y \\ | \\ X, \\theta) = \\sum^n_{i=1} \\log P(\\mathbf y_i \\ | \\mathbf x_i, \\theta)$\n",
        "\n",
        "= $\\sum^n_{i=1} (y_i \\theta^T \\mathbf x_i - log(1 + \\exp(\\theta^T \\mathbf x_i)))$\n",
        "\n",
        "= $y^T X \\theta - \\mathbf 1_{n \\times 1}^T \\cdot \\log(\\mathbf 1_{n \\times 1} + \\exp(X \\theta))$\n",
        "\n",
        "Therefore , $ \\mathcal L_{MLE}(\\theta) = \\log P(\\mathbf y \\ | \\ X, \\theta) =  y^T X \\theta - \\mathbf 1_{n \\times 1}^T \\cdot \\log(\\mathbf 1_{n \\times 1} + \\exp(X \\theta))$. Hence proved"
      ]
    },
    {
      "cell_type": "markdown",
      "metadata": {
        "id": "1KXsXCtyF1fF"
      },
      "source": [
        "**Q3.5**: $\\frac{\\partial \\mathcal L_{MLE}(\\theta)}{\\partial \\theta} = X^T(y - \\text{logistic}(X\\theta))) $\n",
        "\n",
        "\n"
      ]
    },
    {
      "cell_type": "markdown",
      "metadata": {
        "id": "exVcWwPUF1fG"
      },
      "source": [
        "**`Solution Q3.5`**\n",
        "\n",
        "From Q3.4, we have $ \\mathcal L_{MLE}(\\theta) =  y^T X \\theta - \\mathbf 1_{n \\times 1}^T \\cdot \\log(\\mathbf 1_{n \\times 1} + \\exp(X \\theta))$\n",
        "\n",
        "Thus, $\\frac{\\partial \\mathcal L_{MLE}(\\theta)}{\\partial \\theta} = (y^TX)^T - X^T\\Big(\\frac{exp(X\\theta)}{1 + exp(X\\theta)}\\Big) = X^T(y - \\text{logistic}(X\\theta)))$\n",
        "\n",
        "Hence proved."
      ]
    },
    {
      "cell_type": "markdown",
      "metadata": {
        "id": "jLgbcKX7F1fH"
      },
      "source": [
        "### Problem 4: Coding Logistic Regression\n"
      ]
    },
    {
      "cell_type": "markdown",
      "metadata": {
        "id": "2fUkcrILw9s6"
      },
      "source": [
        "Here's the code that generates data according to model specification (**Problem 3**). You needn't change it."
      ]
    },
    {
      "cell_type": "code",
      "metadata": {
        "id": "IXQNVPlNF1fH",
        "jupyter": {
          "outputs_hidden": false
        }
      },
      "source": [
        "import numpy as np\n",
        "import matplotlib.pyplot as plt\n",
        "\n",
        "def generate_logistic_regression_data(n_samples=200, k_featues=2, sigma_eps=0.1, \n",
        "                                      sigma_theta=1, feature_correlation_rate=0, train_test_ratio=4):\n",
        "    assert 0 <= feature_correlation_rate <= 1\n",
        "    X_noncorr = np.random.rand(n_samples, k_featues)*2-1 # [0, 1] -> [-1, 1] center around zero\n",
        "    mixture_matrix = np.eye(k_featues)*(1-feature_correlation_rate) + feature_correlation_rate/k_featues\n",
        "    X = X_noncorr @ mixture_matrix\n",
        "    theta_real = np.random.normal(scale=sigma_theta, size=k_featues)[:, np.newaxis] # column\n",
        "    noise = np.random.logistic(scale=sigma_eps, size=n_samples)[:, np.newaxis]\n",
        "    y = ((X @ theta_real + noise) > 0).astype(np.int16)\n",
        "    split_idx = int(n_samples * train_test_ratio / (train_test_ratio + 1))\n",
        "    return X[:split_idx, :], y[:split_idx], X[split_idx:, :], y[split_idx:], theta_real"
      ],
      "execution_count": null,
      "outputs": []
    },
    {
      "cell_type": "markdown",
      "metadata": {
        "id": "XZpABA1EF1fI"
      },
      "source": [
        "**Q4.1**: Write (by filling in the missing code below) Gradient Descent and Stochastic Gradient Descent algorithm for the MLE loss and plot \n",
        "\n",
        "- MLE loss\n",
        "- Decision Boundary (for 2D data)\n",
        "\n",
        "Use results from **Q3.5**. Note that our loss is $loss(\\theta) = -\\mathcal L(\\theta)$ and it is usually referred to as \"the negative log-likelihood\"."
      ]
    },
    {
      "cell_type": "code",
      "metadata": {
        "id": "T2917BEDF1fI"
      },
      "source": [
        "from numpy.linalg import norm\n",
        "from scipy.spatial.distance import cosine\n",
        "import matplotlib.cm as cm\n",
        "\n",
        "def logistic_loss(X, y, theta_current, lambd):\n",
        "    param1 = np.matmul(np.matmul(y.T, X), theta_current)\n",
        "    log_value = np.log(1 + np.exp(np.matmul(X, theta_current)))\n",
        "    param2 = np.sum(log_value, axis=0, keepdims=True)\n",
        "    loss = param1 - param2\n",
        "    return -loss[0,0] ## ! -- code required\n",
        "\n",
        "def logistic_loss_gradient(X, y, theta_current, lambd):\n",
        "    param1 = np.matmul(X, theta_current)\n",
        "    logistic_value = 1/(1+np.exp(-param1))\n",
        "    gradient = np.matmul(X.T,y - logistic_value)\n",
        "    return gradient ## ! -- code required\n",
        "\n",
        "def logistic_loss_single_gradient(X, y, smaple_id, theta_current, lambd):\n",
        "    x_i = X[smaple_id].reshape((1, -1))\n",
        "    y_i = y[smaple_id].reshape((1, 1))\n",
        "    return logistic_loss_gradient(x_i, y_i, theta_current, lambd)\n",
        "\n",
        "def logistic_classification_accuracy(X, y, theta_current):\n",
        "    param = np.matmul(X, theta_current)\n",
        "    logistic_value = 1/(1+np.exp(-param))\n",
        "    predicted_value = (logistic_value > 0)\n",
        "    error = np.sum(np.square(predicted_value - y))/X.shape[0]\n",
        "    return 1 - error ## ! -- code required\n",
        "\n",
        "def run_MLE_gd(X, y, lambd, learning_rate = 0.01, max_epoch_n=200, init_theta=None):\n",
        "    theta = init_theta if init_theta is not None else np.ones((X.shape[1], 1))*5\n",
        "    steps = []\n",
        "    for epoch_n in range(max_epoch_n):\n",
        "        ## ! -- code required\n",
        "        #print(theta)\n",
        "        theta_change = learning_rate*logistic_loss_gradient(X, y, theta, lambd)\n",
        "        theta = theta + theta_change\n",
        "        steps.append(theta)\n",
        "    return steps\n",
        "\n",
        "def run_MLE_sgd(X, y, lambd, learning_rate = 0.01, max_epoch_n=200, init_theta=None):\n",
        "    theta = init_theta if init_theta is not None else np.ones((X.shape[1], 1))*5\n",
        "    steps = []\n",
        "    for epoch_n in range(max_epoch_n):\n",
        "        for smaple_id in range(X.shape[0]):\n",
        "            ## ! -- code required\n",
        "            theta_change = learning_rate*logistic_loss_single_gradient(X, y, smaple_id, theta, lambd)  # log likelihood\n",
        "            theta = theta + theta_change  # maximising log likelihood\n",
        "            pass\n",
        "        steps.append(theta)\n",
        "    return steps"
      ],
      "execution_count": null,
      "outputs": []
    },
    {
      "cell_type": "markdown",
      "metadata": {
        "id": "_dO7KYx1w9s8"
      },
      "source": [
        "**Q4.1.1**: Plot (for 2D data) all the train and test set points and then plot the decision boundary on the same plot  by filling in the missing code below. Clearly indicate the train/test samples and positive/negative samples in the plot using different markers and colors."
      ]
    },
    {
      "cell_type": "code",
      "metadata": {
        "colab": {
          "base_uri": "https://localhost:8080/",
          "height": 1000
        },
        "id": "OC5zBGdOF1fJ",
        "jupyter": {
          "outputs_hidden": false
        },
        "outputId": "bbf7889f-f058-47b0-abd6-d87fd3e7f533"
      },
      "source": [
        "import time\n",
        "\n",
        "def plot_decision_boundary(X_train, y_train, X_test, y_test, theta):\n",
        "    ## ! -- code required\n",
        "\n",
        "    # taking training data points\n",
        "    train_label_zero = []\n",
        "    train_label_one = []\n",
        "    for i in range(X_train.shape[0]):\n",
        "        if (y_train[i]==0):\n",
        "            train_label_zero.append(i)\n",
        "        else:\n",
        "            train_label_one.append(i)\n",
        "\n",
        "    # taking testing data points\n",
        "    test_label_zero = []\n",
        "    test_label_one = []\n",
        "    for i in range(X_test.shape[0]):\n",
        "        if (y_test[i]==0):\n",
        "            test_label_zero.append(i)\n",
        "        else:\n",
        "            test_label_one.append(i)\n",
        "\n",
        "    # plotting training data points\n",
        "    plt.scatter(X_train[train_label_one,0], X_train[train_label_one,1], color='red', label='Train points with label 1')\n",
        "    plt.scatter(X_train[train_label_zero,0], X_train[train_label_zero,1], color='green', label='Train points with label 0')\n",
        "\n",
        "    # plotting testing data points\n",
        "    plt.scatter(X_test[test_label_one,0], X_test[test_label_one,1], color='yellow', label='Test points with label 1')\n",
        "    plt.scatter(X_test[test_label_zero,0], X_test[test_label_zero,1], color='orange', label='Test points with label 0')\n",
        "    \n",
        "    xval = np.linspace(-1, 1)\n",
        "    yval = -theta[0] * xval / theta[1]\n",
        "\n",
        "    plt.title('Decision Boundary plot for logistic regression')\n",
        "    plt.plot(xval, yval, 'k-')\n",
        "    plt.show()\n",
        "    pass\n",
        "\n",
        "\n",
        "def main():\n",
        "    for k_features in [2, 100]:\n",
        "        data_args = {'n_samples': 200, 'k_featues': k_features, 'sigma_eps': 0.3, \n",
        "                     'sigma_theta': 5, 'feature_correlation_rate': 0}\n",
        "        data = generate_logistic_regression_data(**data_args)\n",
        "        X_train, y_train, X_test, y_test, theta_real = data\n",
        "        lambd = 0\n",
        "        \n",
        "        now = time.perf_counter()\n",
        "        steps = run_MLE_gd(X_train, y_train, lambd, learning_rate=1e-3, max_epoch_n=1000)\n",
        "        losses = [float(logistic_loss(X_train, y_train, thetaa, lambd)) for thetaa in steps]\n",
        "        plt.plot(losses)\n",
        "        plt.title('GD mle_loss , k_featues = %d' % k_features)\n",
        "        plt.show()\n",
        "        print('gd runtime:', time.perf_counter() - now)\n",
        "\n",
        "        if k_features == 2:\n",
        "            ## ! -- code required\n",
        "            # call plot_decision_boundary() with appropriate arguments\n",
        "            plot_decision_boundary(X_train, y_train, X_test, y_test, steps[-1])\n",
        "            pass\n",
        "        \n",
        "        now = time.perf_counter()\n",
        "        steps = run_MLE_sgd(X_train, y_train, lambd, learning_rate=1e-3, max_epoch_n=1000)\n",
        "        losses = [float(logistic_loss(X_train, y_train, thetaa, lambd)) for thetaa in steps]\n",
        "        plt.plot(losses)\n",
        "        plt.title('SGD mle_loss , k_featues = %d' % k_features)\n",
        "        plt.show()\n",
        "        print('sgd runtime:', time.perf_counter() - now)\n",
        "        \n",
        "        plt.show()\n",
        "    \n",
        "main()"
      ],
      "execution_count": null,
      "outputs": [
        {
          "output_type": "display_data",
          "data": {
            "image/png": "[encoded data removed]",
            "text/plain": [
              "<Figure size 432x288 with 1 Axes>"
            ]
          },
          "metadata": {
            "tags": [],
            "needs_background": "light"
          }
        },
        {
          "output_type": "stream",
          "text": [
            "gd runtime: 0.18058337300044514\n"
          ],
          "name": "stdout"
        },
        {
          "output_type": "display_data",
          "data": {
            "image/png": "[encoded data removed]",
            "text/plain": [
              "<Figure size 432x288 with 1 Axes>"
            ]
          },
          "metadata": {
            "tags": [],
            "needs_background": "light"
          }
        },
        {
          "output_type": "display_data",
          "data": {
            "image/png": "[encoded data removed]",
            "text/plain": [
              "<Figure size 432x288 with 1 Axes>"
            ]
          },
          "metadata": {
            "tags": [],
            "needs_background": "light"
          }
        },
        {
          "output_type": "stream",
          "text": [
            "sgd runtime: 2.014836400000604\n"
          ],
          "name": "stdout"
        },
        {
          "output_type": "display_data",
          "data": {
            "image/png": "[encoded data removed]",
            "text/plain": [
              "<Figure size 432x288 with 1 Axes>"
            ]
          },
          "metadata": {
            "tags": [],
            "needs_background": "light"
          }
        },
        {
          "output_type": "stream",
          "text": [
            "gd runtime: 0.2692761009993774\n"
          ],
          "name": "stdout"
        },
        {
          "output_type": "display_data",
          "data": {
            "image/png": "[encoded data removed]",
            "text/plain": [
              "<Figure size 432x288 with 1 Axes>"
            ]
          },
          "metadata": {
            "tags": [],
            "needs_background": "light"
          }
        },
        {
          "output_type": "stream",
          "text": [
            "sgd runtime: 2.1793833010005983\n"
          ],
          "name": "stdout"
        }
      ]
    },
    {
      "cell_type": "markdown",
      "metadata": {
        "id": "AYZU79t7F1fK"
      },
      "source": [
        "**Q4.1.2**: We expect loss to gradually decrease. Re-run code above several times (sgd might work differently). Why is SGD slower than GD?"
      ]
    },
    {
      "cell_type": "markdown",
      "metadata": {
        "id": "m5mpyxI1F1fK"
      },
      "source": [
        "**`Solution Q4.1.2`**\n",
        "\n",
        "In Gradient Descent, average loss over the entire sample is taken per epoch to update the weight parameters. For the same number of epochs, Stochastic gradient descent computes loss for each sample in one single epoch and update the weight parameters.\n",
        "Thus for same number of epochs(here 1000) and samples(here 200), SDG perform (1000*200) updation steps of weight parameters and GD performs only 1000 updation steps. Hence convergence in SDG is slower than GD."
      ]
    },
    {
      "cell_type": "markdown",
      "metadata": {
        "id": "DmJ4TaVBF1fL"
      },
      "source": [
        ".\n",
        "\n",
        ".\n",
        "\n",
        ".\n",
        "\n",
        "Wow, you made it this far. That is impressive. Congratulations!"
      ]
    }
  ]
}